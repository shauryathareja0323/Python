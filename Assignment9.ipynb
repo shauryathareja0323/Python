{
 "cells": [
  {
   "cell_type": "code",
   "execution_count": 3,
   "id": "eed2a4fa-665d-400d-b06a-207bbd9ff14f",
   "metadata": {},
   "outputs": [],
   "source": [
    "# Q1. What is multithreading in python? Why is it used? Name the module used to handle threads in python?\n",
    "# A1. Multithreading is the ability of the processor to execute multiple tasks at the same time. Multithreading\n",
    "#     in Python streamlines the efficient utilization of resources as the threads share the same memory and data \n",
    "#     space. It also allows the concurrent appearance of multiple tasks and reduces the response time. This \n",
    "#     improves the performance.\"threading\" module is used to handle threads in python."
   ]
  },
  {
   "cell_type": "code",
   "execution_count": 4,
   "id": "757aea75-8793-4d60-9d19-cdbd6e7451f1",
   "metadata": {},
   "outputs": [],
   "source": [
    "# Q2. Why threading module used? Write the use of the following functions:\n",
    "#  activeCount()\n",
    "#  currentThread()\n",
    "#  enumerate()\n",
    "# A2. Threading module in python is used to manage the computer resources in an efficient manner by creating \n",
    "#     different threads in a single core of the processor to execute different process at the same time.\n",
    "#     Use of the following are:\n",
    "# 1. activeCount(): In python thread.activeCount(), is used to count current active or running threads.\n",
    "# 2. currentThread(): In python thread.currentThread(), is is used to return the current Thread object, which\n",
    "#                     corresponds to the caller's thread of control."
   ]
  },
  {
   "cell_type": "code",
   "execution_count": 5,
   "id": "bdfd2791-1a83-4a77-aeb1-85354003cc50",
   "metadata": {},
   "outputs": [],
   "source": [
    "# Q3. Explain the following functions:\n",
    "# run()\n",
    "# start()\n",
    "# join()\n",
    "# isAlive()\n",
    "\n",
    "# A3. run(): The run() method executes any target function belonging to a given thread object that is now active.\n",
    "#     start(): The start() method is an inbuilt method of the Thread class of the threading module, it is used to \n",
    "#              start a thread's activity.\n",
    "#     join(): The join() method takes all items in an iterable and joins them into one string.\n",
    "#     isAlive(): the isAlive() method is an inbuilt method of the Thread class of the threading module, it is \n",
    "#                used to check whether that thread is alive or not, ie, it is still running or not."
   ]
  },
  {
   "cell_type": "code",
   "execution_count": 3,
   "id": "ba4627c8-f28e-4596-8a3e-c141e01b0eca",
   "metadata": {},
   "outputs": [
    {
     "name": "stdout",
     "output_type": "stream",
     "text": [
      "[1, 4, 9, 16, 25, 36, 49, 64, 81, 100]\n",
      "[1, 8, 27, 64, 125, 216, 343, 512, 729, 1000]\n"
     ]
    }
   ],
   "source": [
    "# Q4. Write a python program to create two threads. Thread one must print the list of squares and thread\n",
    "#     two must print the list of cubes.\n",
    "# A4. \n",
    "import threading\n",
    "import time\n",
    "\n",
    "list1=[1,2,3,4,5,6,7,8,9,10]\n",
    "list_sqr=[]\n",
    "list_cube=[]\n",
    "\n",
    "def sqr(list1):\n",
    "    for i in list1:\n",
    "        list_sqr.append(i*i)\n",
    "    print(list_sqr)\n",
    "def cube(list1):\n",
    "    for j in list1:\n",
    "        list_cube.append(j*j*j)\n",
    "    print(list_cube)\n",
    "th1 = threading.Thread(target=sqr, args=(list1, ))  \n",
    "th2 = threading.Thread(target=cube, args=(list1, ))  \n",
    "\n",
    "th1.start()  \n",
    "th2.start()  "
   ]
  },
  {
   "cell_type": "code",
   "execution_count": 11,
   "id": "e60664f4-486e-4d78-9c65-ec78d82e0ab1",
   "metadata": {},
   "outputs": [],
   "source": [
    "# Q5. State advantages and disadvantages of multithreading?\n",
    "# A5. Some of the advantages of multithreading are:\n",
    "#  1. Improved performance: Multithreading can help increase the overall performance of an application, \n",
    "#     especially on systems with multiple processors or cores. It allows multiple tasks to run concurrently, \n",
    "#     utilizing the available CPU resources more efficiently.\n",
    "#  2. Responsiveness: In a single-threaded environment, if a long-running task blocks the main thread, the entire\n",
    "#     application becomes unresponsive. Multithreading can prevent this issue by running such tasks in separate \n",
    "#     threads, ensuring the application remains responsive.\n",
    "#  3. Better resource utilization: Multithreading allows better utilization of system resources by keeping the CPU\n",
    "#     busy while waiting for I/O operations or other tasks to complete.\n",
    "#  4. Simplified modeling: Some problems can be more naturally modeled using multiple threads. This makes the \n",
    "#     program easier to design, understand, and maintain.\n",
    "#  5. Parallelism: Multithreading enables parallelism, which can lead to significant performance improvements in\n",
    "#     applications that can be divided into smaller, independent tasks.\n",
    "#     Some of the disadvantages are:\n",
    "#  1.Complexity: Multithreading adds complexity to the program, making it more difficult to design, implement, and\n",
    "#    debug. Developers need to be aware of synchronization, deadlocks, race conditions, and other \n",
    "#    concurrency-related issues.\n",
    "#  2.Synchronization overhead: To avoid data corruption and maintain consistency, developers must synchronize\n",
    "#    access to shared resources, which can result in additional overhead and reduced performance.\n",
    "#  3.Context switching: Context switching between threads consumes CPU time and resources, which can lead to\n",
    "#    performance degradation if not managed efficiently.\n",
    "#  4.Hard to predict behavior: Due to the concurrent nature of multithreading, the behavior of the program can \n",
    "#    be hard to predict and reproduce, especially when it comes to debugging.\n",
    "#  5.Limited by hardware: The performance benefits of multithreading are limited by the number of available cores\n",
    "#    or processors in the system. In some cases, excessive use of threads can lead to performance degradation \n",
    "#    instead of improvement."
   ]
  },
  {
   "cell_type": "code",
   "execution_count": 12,
   "id": "43218173-185c-4ff0-9a91-4493761655b1",
   "metadata": {},
   "outputs": [],
   "source": [
    "# Q6. Explain deadlocks and race conditions.\n",
    "# A6. A race condition occurs when two threads use the same variable at a given time. Deadlock exists when two \n",
    "#     threads seek one lock simultaneously. This situation will stop both threads from processing or executing the\n",
    "#     functions."
   ]
  }
 ],
 "metadata": {
  "kernelspec": {
   "display_name": "Python 3 (ipykernel)",
   "language": "python",
   "name": "python3"
  },
  "language_info": {
   "codemirror_mode": {
    "name": "ipython",
    "version": 3
   },
   "file_extension": ".py",
   "mimetype": "text/x-python",
   "name": "python",
   "nbconvert_exporter": "python",
   "pygments_lexer": "ipython3",
   "version": "3.10.8"
  }
 },
 "nbformat": 4,
 "nbformat_minor": 5
}
