{
 "cells": [
  {
   "cell_type": "code",
   "execution_count": 3,
   "id": "8d988c7f-47ee-4ba0-b700-b38631a539c5",
   "metadata": {},
   "outputs": [
    {
     "data": {
      "text/plain": [
       "[1, 3, 5, 7, 9, 11, 13, 15, 17, 19, 21, 23]"
      ]
     },
     "execution_count": 3,
     "metadata": {},
     "output_type": "execute_result"
    }
   ],
   "source": [
    "# Q1. Which keyword is used to create a function? Create a function to return a list of odd numbers in the\n",
    "#     range of 1 to 25.\n",
    "# A1. \"def\" keyword is used to create a funtion in python.\n",
    "def odd_num():\n",
    "    list1=[]\n",
    "    for i in range(1,25):\n",
    "        type(i)\n",
    "        if(i%2!=0):\n",
    "            list1.append(i)\n",
    "    return list1;\n",
    "\n",
    "odd_num()"
   ]
  },
  {
   "cell_type": "code",
   "execution_count": 5,
   "id": "670c6a7a-694b-4f44-a914-455133aeb8ff",
   "metadata": {},
   "outputs": [
    {
     "name": "stdout",
     "output_type": "stream",
     "text": [
      "*args Output1: 5\n",
      "*args Output2: 26\n",
      "*args Output3: 88\n",
      "**kwargs Output1: 62\n",
      "**kwargs Output2: 4\n",
      "**kwargs Output3: 314\n"
     ]
    }
   ],
   "source": [
    "# Q2. Why *args and **kwargs is used in some functions? Create a function each for *args and **kwargs\n",
    "#     to demonstrate their use.\n",
    "# A2. We use *args and **kwargs as an argument when we are unsure about the number of arguments to pass in the \n",
    "#     functions, using these we can vary the number of arguments each time we run the funtion.One more\n",
    "#     difference between *args and **kwargs is that *args returns the value in the form of a tuple \n",
    "#     whereas **kwargs returns the value in the form of a dictionary.For ex:-\n",
    "# *args:-\n",
    "def total(*args):\n",
    "    total=0\n",
    "    for i in args:\n",
    "        total=total+i\n",
    "    return total;\n",
    "\n",
    "print(\"*args Output1:\",total(2,3))\n",
    "\n",
    "print(\"*args Output2:\",total(5,6,7,8))\n",
    "\n",
    "print(\"*args Output3:\",total(10,20,30,13,15))\n",
    "\n",
    "# **kwargs:-\n",
    "def addDict(**kwargs):\n",
    "    list2=[]\n",
    "    for i in kwargs:\n",
    "        list2.append(kwargs[i])\n",
    "    final= sum (list2)\n",
    "    \n",
    "    return final;\n",
    "\n",
    "print(\"**kwargs Output1:\",addDict(a=20 , b=12 , c=30))\n",
    "\n",
    "print(\"**kwargs Output2:\",addDict(a=2 , b=2 ))\n",
    "\n",
    "print(\"**kwargs Output3:\",addDict(a=2 , b=45, c=90, d=89, e=78, f=10 ))"
   ]
  },
  {
   "cell_type": "code",
   "execution_count": 8,
   "id": "443922e3-2855-4718-ab29-2bdf0cab4896",
   "metadata": {},
   "outputs": [
    {
     "name": "stdout",
     "output_type": "stream",
     "text": [
      "2\n",
      "4\n",
      "6\n",
      "8\n",
      "10\n"
     ]
    }
   ],
   "source": [
    "# Q3. What is an iterator in python? Name the method used to initialise the iterator object and the method\n",
    "#     used for iteration. Use these methods to print the first five elements of the given list.\n",
    "#     [2, 4, 6, 8, 10, 12, 14, 16, 18, 20].\n",
    "# A3. An iterator is an object which contains a countable number of values, on which we can traverse through.\n",
    "#     \"iter\" method is used to initialise the iterator and \"next\" method is used to ietrate over the iterable \n",
    "#     objects.\n",
    "list3=[2, 4, 6, 8, 10, 12, 14, 16, 18, 20]\n",
    "listIter=iter(list3)\n",
    "print(next(listIter))\n",
    "print(next(listIter))\n",
    "print(next(listIter))\n",
    "print(next(listIter))\n",
    "print(next(listIter))"
   ]
  },
  {
   "cell_type": "code",
   "execution_count": 9,
   "id": "47d96d44-e1da-41ce-8e0c-21531e2f2113",
   "metadata": {},
   "outputs": [
    {
     "data": {
      "text/plain": [
       "[2, 4, 6, 8, 10, 12, 14, 16, 18, 20, 22, 24]"
      ]
     },
     "execution_count": 9,
     "metadata": {},
     "output_type": "execute_result"
    }
   ],
   "source": [
    "# Q4. What is a generator function in python? Why yield keyword is used? Give an example of a generator\n",
    "#     function.\n",
    "# A4. Generator function is a type of function which produces an iterator, which is helpful when we need to\n",
    "#     produce a large amount of values but do not want to store them in memory at once rather, call them when \n",
    "#     needed, to call a value from generator function we use the keyword \"yield\".\n",
    "def all_even(n):\n",
    "    for i in range(1,n):\n",
    "        if(i%2==0):\n",
    "            yield i;\n",
    "list(all_even(25))"
   ]
  },
  {
   "cell_type": "code",
   "execution_count": 10,
   "id": "7727542d-dcfd-4271-92ee-26f6a2d147cc",
   "metadata": {},
   "outputs": [
    {
     "name": "stdout",
     "output_type": "stream",
     "text": [
      "1\n",
      "2\n",
      "3\n",
      "5\n",
      "7\n",
      "11\n",
      "13\n",
      "17\n",
      "19\n",
      "23\n",
      "29\n",
      "31\n",
      "37\n",
      "41\n",
      "43\n",
      "47\n",
      "53\n",
      "59\n",
      "61\n",
      "67\n"
     ]
    }
   ],
   "source": [
    "# Q5. Create a generator function for prime numbers less than 1000. Use the next() method to print the\n",
    "#     first 20 prime numbers.\n",
    "def prime_num():\n",
    "    for j in range(1,1000):\n",
    "        k=1\n",
    "        for i in range(2,j):\n",
    "            k=k+1\n",
    "            if(j%i==0):\n",
    "                break\n",
    "        if(k == j-1 or j==1):\n",
    "            yield j;   \n",
    "            \n",
    "x=prime_num()\n",
    "k=0\n",
    "while(k<20):\n",
    "    print(next(x))\n",
    "    k +=1            \n"
   ]
  },
  {
   "cell_type": "code",
   "execution_count": 11,
   "id": "4c979e87-45cc-49e2-8cd0-491c5b222917",
   "metadata": {},
   "outputs": [
    {
     "name": "stdout",
     "output_type": "stream",
     "text": [
      "0\n",
      "1\n",
      "1\n",
      "2\n",
      "3\n",
      "5\n",
      "8\n",
      "13\n",
      "21\n",
      "34\n"
     ]
    }
   ],
   "source": [
    "# Q6. Write a python program to print the first 10 Fibonacci numbers using a while loop.\n",
    "x=0\n",
    "y=1\n",
    "print(x)\n",
    "print(y)\n",
    "counter=0\n",
    "while(counter<=7):\n",
    "    z=x+y\n",
    "    print(z)\n",
    "    x=y\n",
    "    y=z\n",
    "    counter+=1"
   ]
  },
  {
   "cell_type": "code",
   "execution_count": 12,
   "id": "0d7fa229-553c-4481-9ab9-5080ca915b6c",
   "metadata": {},
   "outputs": [
    {
     "name": "stdout",
     "output_type": "stream",
     "text": [
      "['p', 'w', 's', 'k', 'i', 'l', 'l', 's']\n"
     ]
    }
   ],
   "source": [
    "# Q7. Write a List Comprehension to iterate through the given string: ‘pwskills’.\n",
    "#     Expected output: ['p', 'w', 's', 'k', 'i', 'l', 'l', 's']\n",
    "s=\"pwskills\"\n",
    "list4=[]\n",
    "for i in s:\n",
    "    list4.append(i)\n",
    "print(list4)"
   ]
  },
  {
   "cell_type": "code",
   "execution_count": 13,
   "id": "b2fd9d5b-b79f-46c8-a2fc-465ba25c2b1a",
   "metadata": {},
   "outputs": [
    {
     "name": "stdin",
     "output_type": "stream",
     "text": [
      "Enter the number: 9889\n"
     ]
    },
    {
     "name": "stdout",
     "output_type": "stream",
     "text": [
      "9889  is a palindrome\n"
     ]
    }
   ],
   "source": [
    "# Q8. Write a python program to check whether a given number is Palindrome or not using a while loop.\n",
    "num=int(input(\"Enter the number:\"))\n",
    "x=len(str(num))\n",
    "k=int(num)\n",
    "y=1\n",
    "rev_str=\"\"\n",
    "while(y<=x):\n",
    "    n=num%10\n",
    "    num=num/10\n",
    "    a=int(n)\n",
    "    s=str(a)\n",
    "    rev_str=rev_str+s\n",
    "    y +=1\n",
    "rev_int=int(rev_str)\n",
    "if(rev_int==k):\n",
    "    print(k,\" is a palindrome\")\n",
    "else:\n",
    "    print(k,\"is not a palindrome\")"
   ]
  },
  {
   "cell_type": "code",
   "execution_count": null,
   "id": "9692ca63-4798-44ba-9fa3-b4ae3e785e87",
   "metadata": {},
   "outputs": [],
   "source": [
    "# Q9. Write a code to print odd numbers from 1 to 100 using list comprehension.\n",
    "list1=[]\n",
    "odd_list=[]\n",
    "for i in range(1,101):\n",
    "    list1.append(i)\n",
    "for j in list1:\n",
    "    if(j%2!=0):\n",
    "        odd_list.append(j)\n",
    "print(odd_list)"
   ]
  }
 ],
 "metadata": {
  "kernelspec": {
   "display_name": "Python 3 (ipykernel)",
   "language": "python",
   "name": "python3"
  },
  "language_info": {
   "codemirror_mode": {
    "name": "ipython",
    "version": 3
   },
   "file_extension": ".py",
   "mimetype": "text/x-python",
   "name": "python",
   "nbconvert_exporter": "python",
   "pygments_lexer": "ipython3",
   "version": "3.10.8"
  }
 },
 "nbformat": 4,
 "nbformat_minor": 5
}
