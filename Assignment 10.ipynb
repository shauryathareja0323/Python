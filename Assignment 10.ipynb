{
 "cells": [
  {
   "cell_type": "code",
   "execution_count": 3,
   "id": "b5f1bce2-8e81-49c7-a639-e47fcdca901f",
   "metadata": {},
   "outputs": [],
   "source": [
    "# Q1. What is a database? Differentiate between SQL and NoSQL databases.\n",
    "# A1. A database is an organized collection of structured information, or data, typically stored electronically \n",
    "#     in a computer system.Difference between SQL and NoSQL are:\n",
    "\n",
    "#     SQL:\n",
    "#   1.Tables with fixed rows and columns.\n",
    "#   2.Developed with a focus on reducing data duplication.\n",
    "#   3.Oracle, MySQL, Microsoft SQL Server, and PostgreSQL.\n",
    "\n",
    "#     NoSQL:\n",
    "#   1.Document: JSON documents, Key-value: key-value pairs, Wide-column: tables with rows and dynamic columns, Graph: nodes and edges.\n",
    "#   2.Developed with a focus on scaling and allowing for rapid application change driven by agile and DevOps practices.\n",
    "#   3.MongoDB and CouchDB, Key-value: Redis and DynamoDB, Wide-column: Cassandra and HBase, Graph: Neo4j and Amazon Neptune."
   ]
  },
  {
   "cell_type": "code",
   "execution_count": 4,
   "id": "d4195b61-43f0-4e90-bd31-40471e9f2f4d",
   "metadata": {},
   "outputs": [],
   "source": [
    "# Q2. What is DDL? Explain why CREATE, DROP, ALTER, and TRUNCATE are used with an example.\n",
    "# A2. DDL stands for Data Defination Language which consists of commands which are used to define the structure of\n",
    "#     the database including commands like CREATE, DROP, ALTER and TRUNCATE. \n",
    "#     Use of the following commands are:\n",
    "#   1.CREATE: This command is used to create a new table in SQL. The user has to give information like table name,\n",
    "#             column names, and their datatypes.For ex:\n",
    "#             CREATE TABLE table_name (column1 data type, column2 data type,....);\n",
    "#   2.DROP: This command is used to remove an existing table along with its structure from the Database. For ex:\n",
    "#           DROP TABLE table_name;\n",
    "#   3.ALTER: This command is used to add, delete or change columns in the existing table. The user needs to know\n",
    "#            the existing table name and can do add, delete or modify tasks easily.For ex:\n",
    "#            ALTER TABLE table_name\n",
    "#            ADD column_name datatype;\n",
    "#   4.TRUNCATE: This command is used to remove all rows from the table, but the structure of the table still \n",
    "#               exists.For ex:\n",
    "#               TRUNCATE TABLE table_name;"
   ]
  },
  {
   "cell_type": "code",
   "execution_count": 5,
   "id": "191df852-552c-44bb-865b-7b376cfeccb8",
   "metadata": {},
   "outputs": [],
   "source": [
    "# Q3. What is DML? Explain INSERT, UPDATE, and DELETE with an example.\n",
    "# A3. DML stands for Data Manupulation Language which consists of commands which are used to perform any operation\n",
    "#     on data being entered in the tables including commands like INSERT, UPDATE and DELETE.\n",
    "#     Use of the following commands are:\n",
    "#  1. INSERT: This command is used to enter the information or values into a row. We can connect one or more \n",
    "#             records to a single table within a repository using this instruction. This is often used to connect \n",
    "#             an unused tag to the documents. For ex:\n",
    "#             INSERT INTO <table_name> VALUES('value1', 'value2')\n",
    "#  2. UPDATE: This command is used to alter existing table records. Within a table, it modifies data from one or\n",
    "#             more records. This command is used to alter the data which is already present in a table.For ex:\n",
    "#             UPDATE <table_name>\n",
    "#             SET <column_name = value>\n",
    "#  3. DELETE: It deletes all archives from a table. This command is used to erase some or all of the previous \n",
    "#             table’s records. If we do not specify the ‘WHERE’ condition then all the rows would be erased or \n",
    "#             deleted.For ex:\n",
    "#             DELETE FROM <table_name>\n",
    "#             WHERE <condition>"
   ]
  },
  {
   "cell_type": "code",
   "execution_count": 6,
   "id": "6d08c041-bafc-416d-9fa0-238fd29a58f7",
   "metadata": {},
   "outputs": [],
   "source": [
    "# Q4. What is DQL? Explain SELECT with an example.\n",
    "# A4. The full form of DQL is Data Query Language. These statements are used for performing queries on the data \n",
    "#     within schema objects which includes SELECT command.Use of this command is to:\n",
    "#     SELECT: It is used to retrieve data from the database.For ex:\n",
    "#             SELECT * FROM <database name>"
   ]
  },
  {
   "cell_type": "code",
   "execution_count": 7,
   "id": "61935480-6783-4f97-9b2e-73e103e86b2c",
   "metadata": {},
   "outputs": [],
   "source": [
    "# Q5. Explain Primary Key and Foreign Key.\n",
    "# A5. \n",
    "#     Primary Key:\n",
    "#  1. A primary key generally focuses on the uniqueness of the table. It assures the value in the specific column \n",
    "#     is unique.\n",
    "#  2. The table allows only one primary key.\t\n",
    "#  3. The primary key doesn’t allow null values.\n",
    "#  4. It can identify the record uniquely in the database table.\n",
    "#  5. In the primary key, the value cannot be removed from the parent table.\t\n",
    "\n",
    "#     Foreign Key:\n",
    "#  1. A foreign key is generally used to build a relationship between the two tables.\n",
    "#  2. Tables can allow more than one foreign key.\n",
    "#  3. The foreign key accepts multiple null values.\n",
    "#  4. A foreign key is a field in the table that is the primary key in another table.\n",
    "#  5. In this, the value can be deleted from the child table."
   ]
  },
  {
   "cell_type": "code",
   "execution_count": 3,
   "id": "21408b7f-64c8-464d-af56-593fabc09ffb",
   "metadata": {},
   "outputs": [],
   "source": [
    "# Q6. Write a python code to connect MySQL to python. Explain the cursor() and execute() method.\n",
    "# A6 .import mysql.connector\n",
    "#     mydb = mysql.connector.connect(\n",
    "#            host=\"localhost\",\n",
    "#            user=\"abc\",\n",
    "#            password=\"password\"\n",
    "#            )\n",
    "#     mycursor = mydb.cursor()\n",
    "#     mydb.close()\n",
    "\n",
    "#     cursor() method:\n",
    "#     The MySQLCursor of mysql-connector-python (and similar libraries) is used to execute statements to\n",
    "#     communicate with the MySQL database.\n",
    "#     Using the methods of it you can execute SQL statements, fetch data from the result sets, call procedures.\n",
    "#     You can create Cursor object using the cursor() method of the Connection object/class.\n",
    "\n",
    "#     execute() method:\n",
    "#     This method executes the given database operation (query or command). The parameters found in the tuple or\n",
    "#     dictionary params are bound to the variables in the operation. "
   ]
  },
  {
   "cell_type": "code",
   "execution_count": 4,
   "id": "c4921a2b-9f67-4b20-b36f-f6a810382e56",
   "metadata": {},
   "outputs": [],
   "source": [
    "# Q7. Give the order of execution of SQL clauses in an SQL query.\n",
    "# A7. Order of execution of SQL clausses in an SQL query is:\n",
    "#     Order          Clauss\n",
    "#     1.             FROM \n",
    "#     2.             WHERE \n",
    "#     3.             GROUP BY \n",
    "#     4.             HAVING \n",
    "#     5.             SELECT \n",
    "#     6.             ORDER BY \n",
    "#     7.             LIMIT"
   ]
  },
  {
   "cell_type": "code",
   "execution_count": null,
   "id": "13827d53-6833-4c8d-b9ed-53b9337d0d24",
   "metadata": {},
   "outputs": [],
   "source": []
  }
 ],
 "metadata": {
  "kernelspec": {
   "display_name": "Python 3 (ipykernel)",
   "language": "python",
   "name": "python3"
  },
  "language_info": {
   "codemirror_mode": {
    "name": "ipython",
    "version": 3
   },
   "file_extension": ".py",
   "mimetype": "text/x-python",
   "name": "python",
   "nbconvert_exporter": "python",
   "pygments_lexer": "ipython3",
   "version": "3.10.8"
  }
 },
 "nbformat": 4,
 "nbformat_minor": 5
}
