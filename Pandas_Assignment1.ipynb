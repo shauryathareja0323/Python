{
 "cells": [
  {
   "cell_type": "code",
   "execution_count": 1,
   "id": "e5549c70-ad78-454c-94f0-303d8d1e5476",
   "metadata": {},
   "outputs": [],
   "source": [
    "import pandas as pd"
   ]
  },
  {
   "cell_type": "code",
   "execution_count": 17,
   "id": "ad7701f8-185e-40e1-9f0c-8f3ad027ad69",
   "metadata": {},
   "outputs": [
    {
     "name": "stdout",
     "output_type": "stream",
     "text": [
      "0     4\n",
      "1     8\n",
      "2    15\n",
      "3    16\n",
      "4    23\n",
      "5    42\n",
      "dtype: int64\n"
     ]
    }
   ],
   "source": [
    "# Q1. Create a Pandas Series that contains the following data: 4, 8, 15, 16, 23, and 42. Then, print the series.\n",
    "# A1.\n",
    "data=[4, 8, 15, 16, 23, 42]\n",
    "ds1=pd.Series(data)\n",
    "print(ds1)"
   ]
  },
  {
   "cell_type": "code",
   "execution_count": 18,
   "id": "1643bd38-860c-4517-b594-af1321f24f48",
   "metadata": {},
   "outputs": [
    {
     "data": {
      "text/plain": [
       "0    0\n",
       "1    1\n",
       "2    2\n",
       "3    3\n",
       "4    4\n",
       "5    5\n",
       "6    6\n",
       "7    7\n",
       "8    8\n",
       "9    9\n",
       "dtype: int64"
      ]
     },
     "execution_count": 18,
     "metadata": {},
     "output_type": "execute_result"
    }
   ],
   "source": [
    "# Q2. Create a variable of list type containing 10 elements in it, and apply pandas.Series function on the\n",
    "#     variable print it.\n",
    "# A2.\n",
    "data=[0,1,2,3,4,5,6,7,8,9]\n",
    "ds2=pd.Series(data)\n",
    "ds2"
   ]
  },
  {
   "cell_type": "code",
   "execution_count": 19,
   "id": "028ba916-d9f9-48d6-a60e-1405611ea68a",
   "metadata": {},
   "outputs": [
    {
     "name": "stdout",
     "output_type": "stream",
     "text": [
      "     Name  Age  Gender\n",
      "0   Alice   25  Female\n",
      "1     Bob   30    Male\n",
      "2  Claire   27  Female\n"
     ]
    }
   ],
   "source": [
    "# Q3. Create a Pandas DataFrame that contains the following data:\n",
    "\n",
    "# A3.\n",
    "\n",
    "data={'Name':['Alice','Bob','Claire'],\n",
    "      'Age':[25, 30, 27],\n",
    "      'Gender':['Female', 'Male', 'Female']}\n",
    "df1=pd.DataFrame(data)\n",
    "print(df1)"
   ]
  },
  {
   "cell_type": "code",
   "execution_count": 20,
   "id": "2f7357a1-04b6-4a9d-8fb5-f91ce6a01440",
   "metadata": {},
   "outputs": [
    {
     "name": "stdout",
     "output_type": "stream",
     "text": [
      "0    0\n",
      "1    1\n",
      "2    2\n",
      "3    3\n",
      "4    4\n",
      "5    5\n",
      "6    6\n",
      "7    7\n",
      "8    8\n",
      "9    9\n",
      "dtype: int64\n",
      "\n",
      "     Name  Age  Gender\n",
      "0   Alice   25  Female\n",
      "1     Bob   30    Male\n",
      "2  Claire   27  Female\n"
     ]
    }
   ],
   "source": [
    "# Q4. What is ‘DataFrame’ in pandas and how is it different from pandas.series? Explain with an example.\n",
    "# A4. In the pandas library, a DataFrame is a two-dimensional, tabular data structure with labeled axes\n",
    "#     (rows and columns). It can be thought of as a container for Series objects. Each column in a DataFrame is \n",
    "#     a pandas Series. A DataFrame can be created by combining multiple Series or other DataFrames.\n",
    "#     \n",
    "#     On the other hand, a pandas Series is a one-dimensional labeled array capable of holding any data type.\n",
    "#     It is similar to a column in a spreadsheet or a single-column table in a database.For ex: ds1 and ds2 are \n",
    "#     series whearas df1 is dataframe.\n",
    "print(ds2)\n",
    "print(\"\")\n",
    "print(df1)"
   ]
  },
  {
   "cell_type": "code",
   "execution_count": 21,
   "id": "8cd2c269-e402-4bab-a315-780a17637608",
   "metadata": {},
   "outputs": [],
   "source": [
    "# Q5. What are some common functions you can use to manipulate data in a Pandas DataFrame? Can you give an example\n",
    "#     of when you might use one of these functions?\n",
    "# A5. Pandas provides a variety of functions for manipulating and analyzing data in a DataFrame. Some common\n",
    "#     functions include: head(), tail(), coloumns(), dtypes(), shape(), info(), drop(), merge().\n",
    "#     We use coloumns() function to list all the coloums of a data frame."
   ]
  },
  {
   "cell_type": "code",
   "execution_count": 22,
   "id": "18bc617e-a66e-4ece-a15f-b0b092c15db8",
   "metadata": {},
   "outputs": [],
   "source": [
    "# Q6. Which of the following is mutable in nature Series, DataFrame, Panel?\n",
    "# A6. The data of all three is mutable while the size of Series is immutable while the size of DataFrame and Panel\n",
    "#     is mutable."
   ]
  },
  {
   "cell_type": "code",
   "execution_count": 29,
   "id": "e67d83e8-8352-4553-b83b-662f1f47ec71",
   "metadata": {},
   "outputs": [
    {
     "name": "stdout",
     "output_type": "stream",
     "text": [
      "0     4\n",
      "1     8\n",
      "2    15\n",
      "3    16\n",
      "4    23\n",
      "5    42\n",
      "dtype: int64\n",
      "0    0\n",
      "1    1\n",
      "2    2\n",
      "3    3\n",
      "4    4\n",
      "5    5\n",
      "6    6\n",
      "7    7\n",
      "8    8\n",
      "9    9\n",
      "dtype: int64\n",
      "      0\n",
      "0   4.0\n",
      "1   8.0\n",
      "2  15.0\n",
      "3  16.0\n",
      "4  23.0\n",
      "5  42.0\n",
      "6   NaN\n",
      "7   NaN\n",
      "8   NaN\n",
      "9   NaN\n"
     ]
    }
   ],
   "source": [
    "# Q7. Create a DataFrame using multiple Series. Explain with an example.\n",
    "print(ds1)\n",
    "print(ds2)\n",
    "df2={'col1':\n",
    "print(df2)"
   ]
  },
  {
   "cell_type": "code",
   "execution_count": null,
   "id": "14b6930d-d3e2-48bf-a42d-1f19648a2d85",
   "metadata": {},
   "outputs": [],
   "source": []
  }
 ],
 "metadata": {
  "kernelspec": {
   "display_name": "Python 3 (ipykernel)",
   "language": "python",
   "name": "python3"
  },
  "language_info": {
   "codemirror_mode": {
    "name": "ipython",
    "version": 3
   },
   "file_extension": ".py",
   "mimetype": "text/x-python",
   "name": "python",
   "nbconvert_exporter": "python",
   "pygments_lexer": "ipython3",
   "version": "3.10.8"
  }
 },
 "nbformat": 4,
 "nbformat_minor": 5
}
