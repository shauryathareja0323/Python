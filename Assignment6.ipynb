{
 "cells": [
  {
   "cell_type": "code",
   "execution_count": 35,
   "id": "7db46d59-218d-442e-912d-6665a45a91e2",
   "metadata": {},
   "outputs": [
    {
     "name": "stdout",
     "output_type": "stream",
     "text": [
      "No. of Sides: 3\n",
      "No. of Sides: 4\n",
      "No. of Sides: 5\n"
     ]
    }
   ],
   "source": [
    "# Q1. What is Abstraction in OOps? Explain with an example.\n",
    "# A1. Abstract class is used to prepare a blueprint or skeleton of a program. For ex:\n",
    "import abc\n",
    "class Shapes:\n",
    "    @abc.abstractmethod\n",
    "    def no_of_sides(self):\n",
    "        pass\n",
    "    \n",
    "class Triangles(Shapes):\n",
    "    def no_of_sides(self):\n",
    "        return \"3\"\n",
    "    \n",
    "class Squares(Shapes):\n",
    "    def no_of_sides(self):\n",
    "        return \"4\"\n",
    "    \n",
    "class Pentagons(Shapes):\n",
    "    def no_of_sides(self):\n",
    "        return \"5\"\n",
    "    \n",
    "triangle=Triangles()\n",
    "print(\"No. of Sides:\",triangle.no_of_sides())\n",
    "\n",
    "square=Squares()\n",
    "print(\"No. of Sides:\",square.no_of_sides())\n",
    "\n",
    "pentagon=Pentagons()\n",
    "print(\"No. of Sides:\",pentagon.no_of_sides())"
   ]
  },
  {
   "cell_type": "code",
   "execution_count": 36,
   "id": "aa3fe6c0-bc5c-43ff-a2dd-5ccf39775ed8",
   "metadata": {},
   "outputs": [],
   "source": [
    "# Q2. Differentiate between Abstraction and Encapsulation. Explain with an example.\n",
    "# A2. Abstraction is a process of hiding the internal implementation of the code by creating a skeleton whearas\n",
    "#     Encapsulation is a process of hiding sensitive data from the user. For ex:\n",
    "import abc\n",
    "class Result:\n",
    " \n",
    "    def __init__(self, name, maths_num, science_num):\n",
    "        self.name=name\n",
    "        self.__maths_num=maths_num                #This is the example of encapsulation, it will prevent user from\n",
    "        self.__science_num=science_num            #directly accessing the marks.\n",
    "    \n",
    "    @abc.abstractmethod                           #This the example of abstraction.\n",
    "    def total_score(self):\n",
    "        total_percentage=(self.__maths_num+self.__science_num)/200\n",
    "        return total_percentage\n",
    "    \n",
    "class Maths_Class(Result):\n",
    "    \n",
    "    def total_score(self):\n",
    "        return self.__maths_num\n",
    "    \n",
    "class Science_Class(Result):\n",
    "    \n",
    "    def total_score(self):\n",
    "        return self.__science_num"
   ]
  },
  {
   "cell_type": "code",
   "execution_count": 37,
   "id": "ac05c9e6-ce13-40a6-b5a3-3e2e24dd71a3",
   "metadata": {},
   "outputs": [],
   "source": [
    "# Q3. What is abc module in python? Why is it used?\n",
    "# A3. The abc module in python stands for \"Abstract Base Class\" in python, which is used in defining custom \n",
    "#     abstract classes. "
   ]
  },
  {
   "cell_type": "code",
   "execution_count": 38,
   "id": "7d4aad13-2b1b-4493-906e-beaadec992b3",
   "metadata": {},
   "outputs": [],
   "source": [
    "# Q4. How can we achieve data abstraction?\n",
    "# A4. We can achieve data abstraction by creating abstract classes and inheriting them later. "
   ]
  },
  {
   "cell_type": "code",
   "execution_count": 40,
   "id": "11a6571a-05b9-4ede-ae63-5ccfa021f2b6",
   "metadata": {},
   "outputs": [
    {
     "name": "stdout",
     "output_type": "stream",
     "text": [
      "No. of Sides: A polygon can have any no. of sides greater than 2\n"
     ]
    }
   ],
   "source": [
    "# Q5. Can we create an instance of an abstract class? Explain your answer.\n",
    "# A5. Yes, we can create an instance of abstract class. For ex:\n",
    "import abc\n",
    "class Shapes:\n",
    "    @abc.abstractmethod\n",
    "    def no_of_sides(self):\n",
    "        return \"A polygon can have any no. of sides greater than 2\"\n",
    "    \n",
    "class Triangles(Shapes):\n",
    "    def no_of_sides(self):\n",
    "        return \"3\"\n",
    "    \n",
    "class Squares(Shapes):\n",
    "    def no_of_sides(self):\n",
    "        return \"4\"\n",
    "    \n",
    "class Pentagons(Shapes):\n",
    "    def no_of_sides(self):\n",
    "        return \"5\"\n",
    "    \n",
    "polygon=Shapes()           #\n",
    "print(\"No. of Sides:\",polygon.no_of_sides())"
   ]
  }
 ],
 "metadata": {
  "kernelspec": {
   "display_name": "Python 3 (ipykernel)",
   "language": "python",
   "name": "python3"
  },
  "language_info": {
   "codemirror_mode": {
    "name": "ipython",
    "version": 3
   },
   "file_extension": ".py",
   "mimetype": "text/x-python",
   "name": "python",
   "nbconvert_exporter": "python",
   "pygments_lexer": "ipython3",
   "version": "3.10.8"
  }
 },
 "nbformat": 4,
 "nbformat_minor": 5
}
