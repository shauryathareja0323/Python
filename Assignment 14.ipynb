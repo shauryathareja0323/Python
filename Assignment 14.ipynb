{
 "cells": [
  {
   "cell_type": "code",
   "execution_count": 1,
   "id": "3518bf8a-8fd2-4099-8c3a-740476b36123",
   "metadata": {},
   "outputs": [],
   "source": [
    "# Q1. Explain GET and POST methods.\n",
    "# A1. The GET Method:\n",
    "#     GET is used to request data from a specified resource. It can retrieve any visible data to a client, \n",
    "#     such as HTML documents, images, and videos.\n",
    "#     To send a GET request, a client needs to specify the URL of the resource it wants to retrieve. The \n",
    "#     request is then sent to the server, which processes the request and sends the requested data back to the\n",
    "#     client.\n",
    "#     The POST Method:\n",
    "#     The POST sends data to a server to create or update a resource. For example, it is often used to submit\n",
    "#     an HTML form to a server.\n",
    "#     To send a POST request, a client needs to specify the URL of the resource to which it wants to send data\n",
    "#     and the data itself. The request is then sent to the server, which processes the request and sends a \n",
    "#     response back to the client.The POST method is often used to submit forms or upload files to a server."
   ]
  },
  {
   "cell_type": "code",
   "execution_count": 2,
   "id": "44112157-8c97-431b-9529-701934f33d12",
   "metadata": {},
   "outputs": [],
   "source": [
    "# Q2. Why is request used in Flask?\n",
    "# A2. In a Flask App, we have our own Webpage (Client) and a Server. The Server should process the data.\n",
    "#     The Request, in Flask, is an object that contains all the data sent from the Client to Server. This data\n",
    "#     can be recovered using the GET/POST Methods. POST is used when your application expects user input to be \n",
    "#     received by command or an HTTP request, while GET gets all the information before it even has a chance for\n",
    "#     submission."
   ]
  },
  {
   "cell_type": "code",
   "execution_count": 3,
   "id": "59e753c9-7a10-44c4-8ac1-689de30ce7a2",
   "metadata": {},
   "outputs": [],
   "source": [
    "# Q3. Why is redirect() used in Flask?\n",
    "# A3. Flask redirect is defined as a function or utility in Flask which allows developers to redirect users to a\n",
    "#     specified URL and assign a specified status code. When this function is called, a response object is \n",
    "#     returned, and the redirection happens to the target location with the status code. When a website is \n",
    "#     visited,server receives a request and after processing responds to the request with a three-digit code \n",
    "#     known as the HTTP code. In a programming world this status code that is returned as a response is known\n",
    "#     as Errors.Errors and redirect function goes hand in hand."
   ]
  },
  {
   "cell_type": "code",
   "execution_count": 4,
   "id": "26c49c34-285a-4fba-975d-30c3b7dc20e8",
   "metadata": {},
   "outputs": [],
   "source": [
    "# Q4. What are templates in Flask? Why is the render_template() function used?\n",
    "# A4. In Flask, templates are a fundamental part of the framework's templating system. Templates are used to \n",
    "#     separate the presentation logic from the application logic. They allow you to define the structure of\n",
    "#     your web pages using placeholders that can be dynamically filled with data from your Flask application.\n",
    "#     This separation of concerns makes your code more organized, maintainable, and flexible.\n",
    "#     The render_template() function in Flask is used to render HTML templates. It is part of the Flask package \n",
    "#     and is typically used in your view functions (Python functions that handle HTTP requests) to generate\n",
    "#     HTML responses. "
   ]
  },
  {
   "cell_type": "code",
   "execution_count": 5,
   "id": "e5196985-2c07-49e7-853e-dc9d8b10245c",
   "metadata": {},
   "outputs": [],
   "source": [
    "# Q5. Create a simple API. Use Postman to test it. Attach the screenshot of the output in the Jupyter Notebook."
   ]
  },
  {
   "cell_type": "markdown",
   "id": "c0e4a75f-2090-4a82-8931-e5105b23393c",
   "metadata": {},
   "source": [
    "![]()"
   ]
  }
 ],
 "metadata": {
  "kernelspec": {
   "display_name": "Python 3 (ipykernel)",
   "language": "python",
   "name": "python3"
  },
  "language_info": {
   "codemirror_mode": {
    "name": "ipython",
    "version": 3
   },
   "file_extension": ".py",
   "mimetype": "text/x-python",
   "name": "python",
   "nbconvert_exporter": "python",
   "pygments_lexer": "ipython3",
   "version": "3.10.8"
  }
 },
 "nbformat": 4,
 "nbformat_minor": 5
}
