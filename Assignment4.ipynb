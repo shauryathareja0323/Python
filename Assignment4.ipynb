{
 "cells": [
  {
   "cell_type": "code",
   "execution_count": 79,
   "id": "686ef580-78e3-4a9e-9d8b-737807ae4f43",
   "metadata": {},
   "outputs": [
    {
     "name": "stdout",
     "output_type": "stream",
     "text": [
      "[(24936, 'Virat Kohli'), (25534, 'Jack Kallis'), (27483, 'Ricky Ponting'), (34357, 'Sachin Tendulkar')]\n"
     ]
    }
   ],
   "source": [
    "# Q1. Create a python program to sort the given list of tuples based on integer value using a\n",
    "#     lambda function.\n",
    "#     [('Sachin Tendulkar', 34357), ('Ricky Ponting', 27483), ('Jack Kallis', 25534), ('Virat Kohli', 24936)]\n",
    "list1=[('Sachin Tendulkar', 34357), ('Ricky Ponting', 27483), ('Jack Kallis', 25534), ('Virat Kohli', 24936)]\n",
    "list2=[]\n",
    "list(map(lambda x: list2.append(x[::-1]), list1))\n",
    "list2.sort()\n",
    "list1=list2\n",
    "print(list1)"
   ]
  },
  {
   "cell_type": "code",
   "execution_count": 58,
   "id": "da232faa-3a47-4b9e-af38-00bd3c0a58e3",
   "metadata": {},
   "outputs": [
    {
     "data": {
      "text/plain": [
       "[1, 4, 9, 16, 25, 36, 49, 64, 81, 100]"
      ]
     },
     "execution_count": 58,
     "metadata": {},
     "output_type": "execute_result"
    }
   ],
   "source": [
    "# Q2. Write a Python Program to find the squares of all the numbers in the given list of integers using\n",
    "#     lambda and map functions.\n",
    "#     [1, 2, 3, 4, 5, 6, 7, 8, 9, 10]\n",
    "list3=[1, 2, 3, 4, 5, 6, 7, 8, 9, 10]\n",
    "list(map(lambda x: x**2, list3))"
   ]
  },
  {
   "cell_type": "code",
   "execution_count": 69,
   "id": "365c0210-fb53-49ed-a4c0-bd35d2b4d6b7",
   "metadata": {},
   "outputs": [
    {
     "name": "stdout",
     "output_type": "stream",
     "text": [
      "('1', '2', '3', '4', '5', '6', '7', '8', '9', '10')\n"
     ]
    }
   ],
   "source": [
    "# Q3. Write a python program to convert the given list of integers into a tuple of strings. Use map and\n",
    "#     lambda functions.\n",
    "#     [1, 2, 3, 4, 5, 6, 7, 8, 9, 10]\n",
    "list4=[1, 2, 3, 4, 5, 6, 7, 8, 9, 10]\n",
    "tuple1=tuple(map(lambda x: str(x), list4))\n",
    "print(tuple1)"
   ]
  },
  {
   "cell_type": "code",
   "execution_count": 72,
   "id": "7c91c71d-18ec-468a-909f-6ae9cb4f274c",
   "metadata": {},
   "outputs": [
    {
     "name": "stdout",
     "output_type": "stream",
     "text": [
      "15511210043330985984000000\n"
     ]
    }
   ],
   "source": [
    "# Q4. Write a python program using reduce function to compute the product of a list containing numbers\n",
    "#     from 1 to 25.\n",
    "from functools import reduce\n",
    "list5=[]\n",
    "for i in range(1,26):\n",
    "    list5.append(i)\n",
    "\n",
    "product=reduce(lambda x,y: x*y, list5)\n",
    "print(product)"
   ]
  },
  {
   "cell_type": "code",
   "execution_count": 77,
   "id": "dfe2d1f7-c3e8-4d1d-a981-988b8425077f",
   "metadata": {},
   "outputs": [
    {
     "data": {
      "text/plain": [
       "[6, 60, 90, 120]"
      ]
     },
     "execution_count": 77,
     "metadata": {},
     "output_type": "execute_result"
    }
   ],
   "source": [
    "# Q5. Write a python program to filter the numbers in a given list that are divisible by 2 and 3 using the\n",
    "#     filter function.\n",
    "#     [2, 3, 6, 9, 27, 60, 90, 120, 55, 46]\n",
    "list6 = [2, 3, 6, 9, 27, 60, 90, 120, 55, 46]\n",
    "list(filter(lambda x: x%6==0, list6))"
   ]
  },
  {
   "cell_type": "code",
   "execution_count": 78,
   "id": "f7f4058c-790f-4368-81a8-3fdb6f8df60c",
   "metadata": {},
   "outputs": [
    {
     "data": {
      "text/plain": [
       "['php', 'aba', 'radar', 'level']"
      ]
     },
     "execution_count": 78,
     "metadata": {},
     "output_type": "execute_result"
    }
   ],
   "source": [
    "# Q6. Write a python program to find palindromes in the given list of strings using lambda and filter\n",
    "#     function.\n",
    "#     ['python', 'php', 'aba', 'radar', 'level']\n",
    "list7 = ['python', 'php', 'aba', 'radar', 'level']\n",
    "list(filter(lambda x: x==x[::-1], list7))"
   ]
  },
  {
   "cell_type": "code",
   "execution_count": null,
   "id": "3d80053c-fb48-4eca-a0e4-806cb87bf609",
   "metadata": {},
   "outputs": [],
   "source": []
  }
 ],
 "metadata": {
  "kernelspec": {
   "display_name": "Python 3 (ipykernel)",
   "language": "python",
   "name": "python3"
  },
  "language_info": {
   "codemirror_mode": {
    "name": "ipython",
    "version": 3
   },
   "file_extension": ".py",
   "mimetype": "text/x-python",
   "name": "python",
   "nbconvert_exporter": "python",
   "pygments_lexer": "ipython3",
   "version": "3.10.8"
  }
 },
 "nbformat": 4,
 "nbformat_minor": 5
}
