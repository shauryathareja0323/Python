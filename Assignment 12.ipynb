{
 "cells": [
  {
   "cell_type": "code",
   "execution_count": 1,
   "id": "6addd3f2-2252-4c58-942c-49d505d47c59",
   "metadata": {},
   "outputs": [],
   "source": [
    "# Q1. What is an API? Give an example, where an API is used in real life.\n",
    "# A1. APIs are mechanisms that enable two software components to communicate with each other using a set of \n",
    "#     definitions and protocols. An example where an API is used in real life is when we order food from any\n",
    "#     food ordering sites, we perform no. of steps which are outside the app like:\n",
    "#     1.Payment Gateway which must not be using the same architecture as the food ordering app, so there must be \n",
    "#       an API which liknks both of them together.\n",
    "#     2.Location upload using google maps is another example of an API being used in food ordering where we select \n",
    "#       our location on \"Google Maps\" which also may not have the same architecture as food ordering app."
   ]
  },
  {
   "cell_type": "code",
   "execution_count": 2,
   "id": "3ada1714-9321-41a6-8f84-cdafa1d21a19",
   "metadata": {},
   "outputs": [],
   "source": [
    "# Q2. Give advantages and disadvantages of using API.\n",
    "# A2. Advantages:\n",
    "#     1. Interoperability: APIs enable different software systems and platforms to communicate and work together. \n",
    "#        This promotes interoperability, allowing developers to leverage existing services and data in their\n",
    "#        applications.\n",
    "#     2. Reuse of Code and Resources: APIs promote code reuse. Developers can use existing APIs to access \n",
    "#        functionality, data, or services, saving time and effort in coding everything from scratch.\n",
    "#     3. Security: APIs can enhance security by providing controlled access to data and functionality. Access can\n",
    "#        be restricted, monitored, and authenticated to protect sensitive information.\n",
    "#     4. Cross-Platform Compatibility: APIs enable cross-platform compatibility. Applications can be developed \n",
    "#        for various operating systems and devices, ensuring broader reach.\n",
    "    \n",
    "#     Disadavantages:\n",
    "#     1. Complexity: APIs can introduce complexity, especially in systems with numerous interdependencies.\n",
    "#        Managing multiple APIs and their updates can be challenging.\n",
    "#     2. Dependency on Third Parties: When using external APIs, you rely on the availability and reliability of \n",
    "#        the third-party service. If that service goes down or changes its API, it can impact your application.\n",
    "#     3. Security Risks: Poorly designed or insecure APIs can expose vulnerabilities in your application. \n",
    "#        Unauthorized access, data leaks, and other security risks can occur if APIs are not properly secured."
   ]
  },
  {
   "cell_type": "code",
   "execution_count": 3,
   "id": "e157a6fd-d28d-456d-97cf-bcf88d15adbc",
   "metadata": {},
   "outputs": [],
   "source": [
    "# Q3. What is a Web API? Differentiate between API and Web API.\n",
    "# A3. A Web API (Application Programming Interface) is a type of API that is specifically designed to be accessed \n",
    "#     and used over the internet using HTTP (Hypertext Transfer Protocol). It allows different software systems to\n",
    "#     communicate and interact with each other over the web, making it a crucial component of modern web \n",
    "#     applications and services.\n",
    "#     Here's a difference between a API and a Web API:\n",
    "#     API:\n",
    "#     1.Scope:APIs, in a general sense, refer to any set of rules and protocols that allow one software program to\n",
    "#     interact with another. This interaction can occur within a single application or between different \n",
    "#     applications running on the same system.\n",
    "#     2.Transport Protocol:APIs can use various communication methods, including function calls within a \n",
    "#     program's code or even a network protocol like HTTP.\n",
    "#     3.Usage:Generic APIs can be used for a wide range of purposes, including accessing hardware features, \n",
    "#     database management, communication between different modules within an application, and more.\n",
    "#     Web API:\n",
    "#     1.Scope:Web APIs are a subset of APIs designed specifically for use over the internet. They are used to\n",
    "#     enable communication between different software systems, often across the World Wide Web. Web APIs are\n",
    "#     typically used to access web-based services, retrieve or submit data to remote servers, and enable \n",
    "#     interactions between web applications.\n",
    "#     2.Transport Protocol: Web APIs exclusively use the HTTP protocol. Requests are made using HTTP methods \n",
    "#     like GET, POST, PUT, and DELETE, and responses are typically in formats such as JSON or XML.\n",
    "#     3.Usage:Web APIs are commonly used for various purposes, including fetching data from databases, \n",
    "#     interacting with third-party services (e.g., social media platforms, payment gateways), providing access to\n",
    "#     web-based resources (e.g., RESTful APIs), and enabling communication between different web applications or \n",
    "#     components."
   ]
  },
  {
   "cell_type": "code",
   "execution_count": 4,
   "id": "ce382b98-2182-4b6c-b6b9-b68f886c4798",
   "metadata": {},
   "outputs": [],
   "source": [
    "# Q4. Explain REST and SOAP Architecture. Mention shortcomings of SOAP.\n",
    "# A4. REST (Representational State Transfer): REST is an architectural style emphasizing simplicity and \n",
    "#     statelessness. It uses standard HTTP methods and lightweight formats (JSON/XML) for data exchange, making it\n",
    "#     scalable and easy to understand.\n",
    "#     SOAP (Simple Object Access Protocol): SOAP is a protocol-based architectural style with rigid message \n",
    "#     structures, often XML-based. It can be complex, less performant, and lacks the simplicity and flexibility \n",
    "#     of REST.\n",
    "#     Shortcomings of SOAP: SOAP's drawbacks include complexity, larger message sizes, performance overhead, \n",
    "#     limited language support, and challenges in ensuring interoperability."
   ]
  },
  {
   "cell_type": "code",
   "execution_count": 5,
   "id": "4a52c59c-e571-41fe-994d-de9b15cee46a",
   "metadata": {},
   "outputs": [],
   "source": [
    "# Q5. Differentiate between REST and SOAP.\n",
    "# A5. REST (Representational State Transfer) and SOAP (Simple Object Access Protocol) are architectural styles for\n",
    "#     designing web services. REST relies on HTTP methods for communication, uses lightweight formats like\n",
    "#     JSON/XML, and is stateless, making it simple and scalable. SOAP, on the other hand, is a protocol with a \n",
    "#     strict XML message structure, potentially complex, and can be less performant. REST is suitable for public\n",
    "#     APIs and web applications, while SOAP is often used in enterprise scenarios where strict standards and \n",
    "#     security are necessary. REST's simplicity and scalability contrast with SOAP's rigidity and complexity."
   ]
  }
 ],
 "metadata": {
  "kernelspec": {
   "display_name": "Python 3 (ipykernel)",
   "language": "python",
   "name": "python3"
  },
  "language_info": {
   "codemirror_mode": {
    "name": "ipython",
    "version": 3
   },
   "file_extension": ".py",
   "mimetype": "text/x-python",
   "name": "python",
   "nbconvert_exporter": "python",
   "pygments_lexer": "ipython3",
   "version": "3.10.8"
  }
 },
 "nbformat": 4,
 "nbformat_minor": 5
}
