{
 "cells": [
  {
   "cell_type": "code",
   "execution_count": 1,
   "id": "8d3f68b7-70a9-46f2-875c-d8dbef747782",
   "metadata": {},
   "outputs": [],
   "source": [
    "# Q1. Create one variable containing following type of data:\n",
    "#1.string:\n",
    "a=\"Hello World\"  \n",
    "#2.list:\n",
    "b=[\"Physics Wallah\",\"Apni Kaksha\",\"Unacademy\",\"Byju's\"]\n",
    "#3.float:\n",
    "c=3.14\n",
    "#4.tuple:\n",
    "d=(a,b,c,'Shaurya')\n"
   ]
  },
  {
   "cell_type": "code",
   "execution_count": 2,
   "id": "28721e15-0ec0-4859-a099-2eae7ac3cba2",
   "metadata": {},
   "outputs": [],
   "source": [
    "# Q2. Given are some following variables containing data:\n",
    "#1. var1 = ' ' == str\n",
    "#2. var2 = ‘[ DS , ML , Python]’ == str\n",
    "#3. var3 = [ ‘DS’ , ’ML’ , ‘Python’ ] == list\n",
    "#4. var4 = 1  == int\n"
   ]
  },
  {
   "cell_type": "code",
   "execution_count": 3,
   "id": "f0c82478-3e75-46e4-8599-2deaeb3d4455",
   "metadata": {},
   "outputs": [
    {
     "name": "stdout",
     "output_type": "stream",
     "text": [
      "2.0\n"
     ]
    }
   ],
   "source": [
    "# Q3. Explain the use of the following operators using an example:\n",
    "#1. /\n",
    "e=4/2 # '/', this operator is used to divide a number by another number.\n",
    "print(e)"
   ]
  },
  {
   "cell_type": "code",
   "execution_count": 4,
   "id": "f7fa82a7-8fdb-4e55-924f-ac190e41a169",
   "metadata": {},
   "outputs": [
    {
     "name": "stdout",
     "output_type": "stream",
     "text": [
      "1\n"
     ]
    }
   ],
   "source": [
    "#2. %\n",
    "f= 5%2 # '%', this operator is used to obtain the remainder when a number is dived by onother.\n",
    "print(f)"
   ]
  },
  {
   "cell_type": "code",
   "execution_count": 5,
   "id": "0a6626b3-fa77-49f0-856a-981433690148",
   "metadata": {},
   "outputs": [
    {
     "name": "stdout",
     "output_type": "stream",
     "text": [
      "2\n"
     ]
    }
   ],
   "source": [
    "#3. //\n",
    "g= 7//3 #'//', this operator is used to obtain the division result down to the nearest whole number.\n",
    "print(g)"
   ]
  },
  {
   "cell_type": "code",
   "execution_count": 6,
   "id": "003fc819-7422-4d5c-914e-0199bb399275",
   "metadata": {},
   "outputs": [
    {
     "name": "stdout",
     "output_type": "stream",
     "text": [
      "81\n"
     ]
    }
   ],
   "source": [
    "#4. **\n",
    "h= 3**4 #'**', this operator is used to abtain the number raised to the power\n",
    "print(h)"
   ]
  },
  {
   "cell_type": "code",
   "execution_count": 7,
   "id": "b75ef535-2549-4030-b537-14ed5b51b12f",
   "metadata": {},
   "outputs": [
    {
     "name": "stdout",
     "output_type": "stream",
     "text": [
      "a\n",
      "<class 'str'>\n",
      "['Physics Wallah', 'Apni Kaksha', 'Unacademy', \"Byju's\"]\n",
      "<class 'list'>\n",
      "3\n",
      "<class 'int'>\n",
      "4.23\n",
      "<class 'float'>\n",
      "['f', 'd']\n",
      "<class 'list'>\n",
      "(4+3j)\n",
      "<class 'complex'>\n",
      "(6, 7, 'adc')\n",
      "<class 'tuple'>\n",
      "range(0, 4)\n",
      "<class 'range'>\n",
      "True\n",
      "<class 'bool'>\n",
      "None\n",
      "<class 'NoneType'>\n"
     ]
    }
   ],
   "source": [
    "# Q4. Create a list of length 10 of your choice containing multiple types of data. \n",
    "#     Using for loop print the element and its data type.\n",
    "list1 = ['a',b,3,4.23,['f','d'],4+3j,(6,7,'adc'),range(4),True,None]\n",
    "for i in list1:\n",
    "    print(i)\n",
    "    print(type(i))"
   ]
  },
  {
   "cell_type": "code",
   "execution_count": 8,
   "id": "42a8216f-8215-4ef4-b8cc-aae30ad95ea0",
   "metadata": {},
   "outputs": [
    {
     "name": "stdin",
     "output_type": "stream",
     "text": [
      "Enter The number A 16\n",
      "Enter The number B 2\n"
     ]
    },
    {
     "name": "stdout",
     "output_type": "stream",
     "text": [
      "8.0\n",
      "4.0\n",
      "2.0\n",
      "1.0\n",
      "Yes, 16  is purely divisible by  2 , it is divisible 4 times\n"
     ]
    }
   ],
   "source": [
    "# Q5. Using a while loop, verify if the number A is purely divisible by number B and if so then how many\n",
    "#     times it can be divisible.\n",
    "a = int(input(\"Enter The number A\"))\n",
    "b = int(input(\"Enter The number B\"))\n",
    "i = 0\n",
    "d = a\n",
    "while(a>1):\n",
    "    c=a%b\n",
    "    if(c==0):\n",
    "        a=a/b\n",
    "        i=i+1\n",
    "        print(a)\n",
    "    else:\n",
    "        print(d,\"is not purely divisible by \", b)\n",
    "        break\n",
    "print(\"Yes,\", d ,\" is purely divisible by \", b, \", it is divisible\" ,i, \"times\")"
   ]
  },
  {
   "cell_type": "code",
   "execution_count": 1,
   "id": "cd3a455d-105a-4ef5-a9ff-b4eb7ff600b7",
   "metadata": {},
   "outputs": [
    {
     "name": "stdout",
     "output_type": "stream",
     "text": [
      "1 is not divisible by 3\n",
      "2 is not divisible by 3\n",
      "3 is divisible by 3\n",
      "4 is not divisible by 3\n",
      "5 is not divisible by 3\n",
      "6 is divisible by 3\n",
      "7 is not divisible by 3\n",
      "8 is not divisible by 3\n",
      "9 is divisible by 3\n",
      "10 is not divisible by 3\n",
      "11 is not divisible by 3\n",
      "12 is divisible by 3\n",
      "13 is not divisible by 3\n",
      "14 is not divisible by 3\n",
      "15 is divisible by 3\n",
      "16 is not divisible by 3\n",
      "17 is not divisible by 3\n",
      "18 is divisible by 3\n",
      "19 is not divisible by 3\n",
      "20 is not divisible by 3\n",
      "21 is divisible by 3\n",
      "22 is not divisible by 3\n",
      "23 is not divisible by 3\n",
      "24 is divisible by 3\n",
      "25 is not divisible by 3\n"
     ]
    }
   ],
   "source": [
    "# Q6. Create a list containing 25 int type data. Using for loop and if-else condition print if the element is\n",
    "#     divisible by 3 or not.\n",
    "\n",
    "list2=[1,2,3,4,5,6,7,8,9,10,11,12,13,14,15,16,17,18,19,20,21,22,23,24,25]\n",
    "for i in list2:\n",
    "    if(i%3==0):\n",
    "        print(i,\"is divisible by 3\")\n",
    "    else:\n",
    "        print(i,\"is not divisible by 3\")"
   ]
  },
  {
   "cell_type": "code",
   "execution_count": 3,
   "id": "2c9e2af7-ff5f-43ad-82af-680e8b618341",
   "metadata": {},
   "outputs": [
    {
     "name": "stdout",
     "output_type": "stream",
     "text": [
      "[2, 3, 4, 5, 6, 7, 9]\n"
     ]
    }
   ],
   "source": [
    "# Q7. What do you understand about mutable and immutable data types? Give examples for both showing\n",
    "#     this property.\n",
    "\n",
    "# Mutable data type: The varible whose value can be changed anywhere in the program and any number of times is know as mutable type. For example:\n",
    "a=[2,3,4,5,6,7]\n",
    "a.append(9)\n",
    "print(a)\n"
   ]
  },
  {
   "cell_type": "code",
   "execution_count": 4,
   "id": "273d35c3-1f93-4cb6-846f-89c9bb1b09fe",
   "metadata": {},
   "outputs": [
    {
     "ename": "AttributeError",
     "evalue": "'tuple' object has no attribute 'append'",
     "output_type": "error",
     "traceback": [
      "\u001b[0;31m---------------------------------------------------------------------------\u001b[0m",
      "\u001b[0;31mAttributeError\u001b[0m                            Traceback (most recent call last)",
      "Cell \u001b[0;32mIn[4], line 3\u001b[0m\n\u001b[1;32m      1\u001b[0m \u001b[38;5;66;03m# Immutable data type: The variable whose value cannot be changed, after it is daclared is known as immutable data type.\u001b[39;00m\n\u001b[1;32m      2\u001b[0m b\u001b[38;5;241m=\u001b[39m(\u001b[38;5;241m2\u001b[39m,\u001b[38;5;241m3\u001b[39m,\u001b[38;5;241m4\u001b[39m,\u001b[38;5;241m5\u001b[39m,\u001b[38;5;241m6\u001b[39m,\u001b[38;5;241m7\u001b[39m)\n\u001b[0;32m----> 3\u001b[0m \u001b[43mb\u001b[49m\u001b[38;5;241;43m.\u001b[39;49m\u001b[43mappend\u001b[49m(\u001b[38;5;241m9\u001b[39m)\n\u001b[1;32m      4\u001b[0m \u001b[38;5;28mprint\u001b[39m(b)\n",
      "\u001b[0;31mAttributeError\u001b[0m: 'tuple' object has no attribute 'append'"
     ]
    }
   ],
   "source": [
    "# Immutable data type: The variable whose value cannot be changed, after it is daclared is known as immutable data type.\n",
    "b=(2,3,4,5,6,7)\n",
    "b.append(9)\n",
    "print(b)"
   ]
  },
  {
   "cell_type": "code",
   "execution_count": null,
   "id": "c1083d6e-9acb-4ca3-9eb7-12864ded1e16",
   "metadata": {},
   "outputs": [],
   "source": []
  }
 ],
 "metadata": {
  "kernelspec": {
   "display_name": "Python 3 (ipykernel)",
   "language": "python",
   "name": "python3"
  },
  "language_info": {
   "codemirror_mode": {
    "name": "ipython",
    "version": 3
   },
   "file_extension": ".py",
   "mimetype": "text/x-python",
   "name": "python",
   "nbconvert_exporter": "python",
   "pygments_lexer": "ipython3",
   "version": "3.10.8"
  }
 },
 "nbformat": 4,
 "nbformat_minor": 5
}
