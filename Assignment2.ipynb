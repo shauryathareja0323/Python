{
 "cells": [
  {
   "cell_type": "code",
   "execution_count": 1,
   "id": "6908b65e-ac36-42be-a3c3-479ac3af713b",
   "metadata": {},
   "outputs": [],
   "source": [
    "# Q1. How do you comment code in Python? What are the different types of comments?\n",
    "# A1. To make a comment in python we can put a '#' symbol in front of the comment line or we can also use \n",
    "#     multi-line strings for commenting use either a ‘’ or “” quotation marks three times. \n",
    "#     Two types of comments in python are: Single Line Comments and Multi Line Comments."
   ]
  },
  {
   "cell_type": "code",
   "execution_count": 2,
   "id": "df79e9ca-1130-44c1-931a-63fc2bf75f9a",
   "metadata": {},
   "outputs": [],
   "source": [
    "# Q2. What are variables in Python? How do you declare and assign values to variables?\n",
    "# A2. Variables in python are containers for storing data values.\n",
    "#     To declare a variable we just assign a value to it. For ex: x = 25."
   ]
  },
  {
   "cell_type": "code",
   "execution_count": 3,
   "id": "295a0bec-16ec-45ea-9558-14943909a809",
   "metadata": {},
   "outputs": [],
   "source": [
    "# Q3. How do you convert one data type to another in Python?\n",
    "# A3. To convert one data type to another we use type casting, it can be done in the following way:\n",
    "#     x = 23\n",
    "#     float(x), this will change x from integer to float data type, i.e. x= 23.0"
   ]
  },
  {
   "cell_type": "code",
   "execution_count": 4,
   "id": "240c2588-3e36-405a-923e-1d8ff1561fa5",
   "metadata": {},
   "outputs": [],
   "source": [
    "# Q4. How do you write and execute a Python script from the command line?\n",
    "# A4. To write and execute a Python script from command line, just open a command line and type python in it and we\n",
    "#     will be able to write and execute any python script in command line. If we want to run a pre written script \n",
    "#     we can just type \"python (script name).py\" and press enter, this will run our script in command line. "
   ]
  },
  {
   "cell_type": "code",
   "execution_count": 5,
   "id": "b21e0e9c-d824-4251-9722-ffdfb907e5c7",
   "metadata": {},
   "outputs": [
    {
     "data": {
      "text/plain": [
       "[2, 3]"
      ]
     },
     "execution_count": 5,
     "metadata": {},
     "output_type": "execute_result"
    }
   ],
   "source": [
    "# Q5. Given a list my_list = [1, 2, 3, 4, 5], write the code to slice the list and obtain the sub-list [2, 3].\n",
    "# A5.\n",
    "my_list = [1,2,3,4,5]\n",
    "my_list[1:3]"
   ]
  },
  {
   "cell_type": "code",
   "execution_count": 6,
   "id": "f3458f95-2ab6-4479-9090-fcb08c1fa9a4",
   "metadata": {},
   "outputs": [],
   "source": [
    "# Q6. What is a complex number in mathematics, and how is it represented in Python?\n",
    "# A6. Complex numbers are the numbers that are expressed in the form of a+ib where, a,b are real numbers and \n",
    "#     ‘i’ is an imaginary number called “iota”. The value of i = (√-1).\n",
    "#      It is represented in python by a+bj, where a and b are real numbers."
   ]
  },
  {
   "cell_type": "code",
   "execution_count": 7,
   "id": "68e2a588-0933-4ca0-b115-ae1b06d050fc",
   "metadata": {},
   "outputs": [],
   "source": [
    "# Q7. What is the correct way to declare a variable named age and assign the value 25 to it?\n",
    "# A7. \n",
    "age=25"
   ]
  },
  {
   "cell_type": "code",
   "execution_count": 8,
   "id": "27e08ea3-91ec-488e-9296-50cf6820b28c",
   "metadata": {},
   "outputs": [
    {
     "data": {
      "text/plain": [
       "float"
      ]
     },
     "execution_count": 8,
     "metadata": {},
     "output_type": "execute_result"
    }
   ],
   "source": [
    "# Q8. Declare a variable named price and assign the value 9.99 to it. What data type does this variable\n",
    "#     belong to?\n",
    "# A8. \n",
    "price=9.99\n",
    "type(price) #It belongs to \"Float\" data type."
   ]
  },
  {
   "cell_type": "code",
   "execution_count": 9,
   "id": "3226baf8-d3a4-45f6-bb56-a6953b0a1fb3",
   "metadata": {},
   "outputs": [
    {
     "name": "stdout",
     "output_type": "stream",
     "text": [
      "Shaurya Thareja\n"
     ]
    }
   ],
   "source": [
    "# Q9. Create a variable named name and assign your full name to it as a string. How would you print the\n",
    "#     value of this variable?\n",
    "# A9.\n",
    "name=\"Shaurya Thareja\" \n",
    "print(name)"
   ]
  },
  {
   "cell_type": "code",
   "execution_count": 10,
   "id": "b3f6d76e-d175-431d-8504-6cf15d48b9bf",
   "metadata": {},
   "outputs": [
    {
     "name": "stdout",
     "output_type": "stream",
     "text": [
      "World\n"
     ]
    }
   ],
   "source": [
    "# Q10. Given the string \"Hello, World!\", extract the substring \"World\".\n",
    "# A10. \n",
    "a=\"Hello, World!\"\n",
    "print(a[7:12])"
   ]
  },
  {
   "cell_type": "code",
   "execution_count": null,
   "id": "7d292481-d1c1-43d5-a5a4-6fae58412648",
   "metadata": {},
   "outputs": [],
   "source": [
    "# Q11. Create a variable named \"is_student\" and assign it a boolean value indicating whether you are\n",
    "#      currently a student or not.\n",
    "# A11. \n",
    "is_student=True\n",
    "type(is_student)"
   ]
  }
 ],
 "metadata": {
  "kernelspec": {
   "display_name": "Python 3 (ipykernel)",
   "language": "python",
   "name": "python3"
  },
  "language_info": {
   "codemirror_mode": {
    "name": "ipython",
    "version": 3
   },
   "file_extension": ".py",
   "mimetype": "text/x-python",
   "name": "python",
   "nbconvert_exporter": "python",
   "pygments_lexer": "ipython3",
   "version": "3.10.8"
  }
 },
 "nbformat": 4,
 "nbformat_minor": 5
}
