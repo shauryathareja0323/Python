{
 "cells": [
  {
   "cell_type": "code",
   "execution_count": 1,
   "id": "58d9a250-670b-4e36-9c34-91e6d1cbcc1d",
   "metadata": {},
   "outputs": [],
   "source": [
    "# Q1. What is an exception in python? Write the difference between Exceptions and Syntax errors.\n",
    "# A1. An exception is an event, that disrupts the flow of python program due to a statement that python cannot\n",
    "#     execute. Exceptions occur due to a an error in the logical part of the program whearas synatx errors\n",
    "#     occur due to an error in the syntax of a line of a code."
   ]
  },
  {
   "cell_type": "code",
   "execution_count": 3,
   "id": "0d93163d-a6d7-4994-962a-ea577f7bf6be",
   "metadata": {},
   "outputs": [
    {
     "ename": "ZeroDivisionError",
     "evalue": "division by zero",
     "output_type": "error",
     "traceback": [
      "\u001b[0;31m---------------------------------------------------------------------------\u001b[0m",
      "\u001b[0;31mZeroDivisionError\u001b[0m                         Traceback (most recent call last)",
      "Cell \u001b[0;32mIn[3], line 4\u001b[0m\n\u001b[1;32m      1\u001b[0m \u001b[38;5;66;03m# Q2. What happens when an exception is not handled? Explain with an example.\u001b[39;00m\n\u001b[1;32m      2\u001b[0m \u001b[38;5;66;03m# A2. When an exception occurs and is not handled, the code terminates then and there only and any line after\u001b[39;00m\n\u001b[1;32m      3\u001b[0m \u001b[38;5;66;03m#     it will not be executed.For ex:\u001b[39;00m\n\u001b[0;32m----> 4\u001b[0m a\u001b[38;5;241m=\u001b[39m\u001b[38;5;241;43m10\u001b[39;49m\u001b[38;5;241;43m/\u001b[39;49m\u001b[38;5;241;43m0\u001b[39;49m\n\u001b[1;32m      5\u001b[0m \u001b[38;5;28mprint\u001b[39m(\u001b[38;5;124m\"\u001b[39m\u001b[38;5;124mI cannot be executed as there is an exception above.\u001b[39m\u001b[38;5;124m\"\u001b[39m) \u001b[38;5;66;03m#This line of code didn't executed as there is an\u001b[39;00m\n\u001b[1;32m      6\u001b[0m                                                               \u001b[38;5;66;03m#exception above.\u001b[39;00m\n",
      "\u001b[0;31mZeroDivisionError\u001b[0m: division by zero"
     ]
    }
   ],
   "source": [
    "# Q2. What happens when an exception is not handled? Explain with an example.\n",
    "# A2. When an exception occurs and is not handled, the code terminates then and there only and any line after\n",
    "#     it will not be executed.For ex:\n",
    "a=10/0\n",
    "print(\"I cannot be executed as there is an exception above.\") #This line of code didn't executed as there is an\n",
    "                                                              #exception above."
   ]
  },
  {
   "cell_type": "code",
   "execution_count": 10,
   "id": "631d2d6e-8acb-48f5-911d-cab537e59a89",
   "metadata": {},
   "outputs": [
    {
     "name": "stdout",
     "output_type": "stream",
     "text": [
      "division by zero\n",
      "The error has been handled and the flow of program continues.\n"
     ]
    }
   ],
   "source": [
    "# Q3. Which python statements are used to catch and handle exceptions? Explain with an example.\n",
    "# A3. The try and except block in python is used to catch and handle exceptions.For ex:\n",
    "try:\n",
    "    a=10/0\n",
    "except Exception as e:\n",
    "    print(e)\n",
    "\n",
    "print(\"The error has been handled and the flow of program continues.\")"
   ]
  },
  {
   "cell_type": "code",
   "execution_count": 15,
   "id": "87959b9d-13f6-4942-9178-3c03af90c094",
   "metadata": {},
   "outputs": [
    {
     "name": "stdout",
     "output_type": "stream",
     "text": [
      "pwskills\n"
     ]
    }
   ],
   "source": [
    "# Q4. Explain with an example:\n",
    "# a. try and else.\n",
    "# b. finally.\n",
    "# c. raise.\n",
    "# A4. \n",
    "# a. try and else:\n",
    "try:\n",
    "    a=10/2\n",
    "except Exception as e:              \n",
    "    print(e)\n",
    "else:\n",
    "    print(\"pwskills\")           #If there will be no error in try block then only else will run. "
   ]
  },
  {
   "cell_type": "code",
   "execution_count": 16,
   "id": "007a9b9c-2039-4f75-94bd-777c1bb55be8",
   "metadata": {},
   "outputs": [
    {
     "name": "stdout",
     "output_type": "stream",
     "text": [
      "division by zero\n",
      "pwskills\n"
     ]
    }
   ],
   "source": [
    "#b. finally:\n",
    "try:\n",
    "    a=10/0\n",
    "except Exception as e:\n",
    "    print(e)\n",
    "finally:                 #Finally block will run no matter there is an error or not in try block.\n",
    "    print(\"pwskills\")"
   ]
  },
  {
   "cell_type": "code",
   "execution_count": 19,
   "id": "f21d266d-3ed3-4854-849a-358e6377fefd",
   "metadata": {},
   "outputs": [
    {
     "name": "stdin",
     "output_type": "stream",
     "text": [
      "Enter age : -12\n"
     ]
    },
    {
     "ename": "Exception",
     "evalue": "Age below zero is not possible.",
     "output_type": "error",
     "traceback": [
      "\u001b[0;31m---------------------------------------------------------------------------\u001b[0m",
      "\u001b[0;31mException\u001b[0m                                 Traceback (most recent call last)",
      "Cell \u001b[0;32mIn[19], line 4\u001b[0m\n\u001b[1;32m      2\u001b[0m age\u001b[38;5;241m=\u001b[39m\u001b[38;5;28mint\u001b[39m(\u001b[38;5;28minput\u001b[39m(\u001b[38;5;124m\"\u001b[39m\u001b[38;5;124mEnter age :\u001b[39m\u001b[38;5;124m\"\u001b[39m))\n\u001b[1;32m      3\u001b[0m \u001b[38;5;28;01mif\u001b[39;00m (age\u001b[38;5;241m<\u001b[39m\u001b[38;5;241m0\u001b[39m):\n\u001b[0;32m----> 4\u001b[0m     \u001b[38;5;28;01mraise\u001b[39;00m \u001b[38;5;167;01mException\u001b[39;00m(\u001b[38;5;124m\"\u001b[39m\u001b[38;5;124mAge below zero is not possible.\u001b[39m\u001b[38;5;124m\"\u001b[39m) \u001b[38;5;66;03m#Raise keyword is used to raise custom exceptions.\u001b[39;00m\n",
      "\u001b[0;31mException\u001b[0m: Age below zero is not possible."
     ]
    }
   ],
   "source": [
    "#c. raise:\n",
    "age=int(input(\"Enter age :\"))\n",
    "if (age<0):\n",
    "    raise Exception(\"Age below zero is not possible.\") #Raise keyword is used to raise custom exceptions."
   ]
  },
  {
   "cell_type": "code",
   "execution_count": 2,
   "id": "b7cb3aa4-c514-4257-b912-de96ed5cf1e1",
   "metadata": {},
   "outputs": [],
   "source": [
    "# Q5. What are Custom Exceptions in python? Why do we need custom exception? Explain with example?\n",
    "# A5. Custom Exceptions are User created exceptions. We need custom exceptions to serve our specific needs in \n",
    "#     any program.For ex: we can create a custom exception to handle the access of a particlar website based \n",
    "#     on your age, which will raise an exception if your age is less than 18."
   ]
  },
  {
   "cell_type": "code",
   "execution_count": null,
   "id": "24789ef8-a288-4833-9659-6da1a1f7dae7",
   "metadata": {},
   "outputs": [],
   "source": [
    "# Q6. Create a custom exception class. Use this class to handle an exception.\n",
    "class zero_division_exception(Exception):\n",
    "    def __init__(self, msg):\n",
    "        self.msg=msg\n",
    "        \n",
    "def division_possible(num):\n",
    "    if num==0:\n",
    "        raise zero_division_exception(\"Entered num is zero\")\n",
    "    else:\n",
    "        print(\"Division Possible\")\n",
    "        \n",
    "try:\n",
    "    num=int(input(\"Enter the number to check for division\"))\n",
    "    division_possible(num)\n",
    "    \n",
    "except:\n",
    "\n",
    "    \n",
    "        \n",
    "        "
   ]
  }
 ],
 "metadata": {
  "kernelspec": {
   "display_name": "Python 3 (ipykernel)",
   "language": "python",
   "name": "python3"
  },
  "language_info": {
   "codemirror_mode": {
    "name": "ipython",
    "version": 3
   },
   "file_extension": ".py",
   "mimetype": "text/x-python",
   "name": "python",
   "nbconvert_exporter": "python",
   "pygments_lexer": "ipython3",
   "version": "3.10.8"
  }
 },
 "nbformat": 4,
 "nbformat_minor": 5
}
