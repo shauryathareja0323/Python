{
 "cells": [
  {
   "cell_type": "code",
   "execution_count": 85,
   "id": "21544951-35fb-480d-879e-fe657deb5e01",
   "metadata": {},
   "outputs": [],
   "source": [
    "# Q1. Create a vehicle class with an init method having instance variables as name_of_vehicle, max_speed\n",
    "#     and average_of_vehicle.\n",
    "\n",
    "class vehicle:\n",
    "    \n",
    "    def __init__(self, name_of_vehicle, max_speed, average_of_vehicle):\n",
    "        self.name_of_vehicle=name_of_vehicle\n",
    "        self.max_speed=max_speed\n",
    "        self.average_of_vehicle=average_of_vehicle\n",
    "            \n",
    "    def return_values(self):\n",
    "        return self.name_of_vehicle, self.max_speed, self.average_of_vehicle"
   ]
  },
  {
   "cell_type": "code",
   "execution_count": 88,
   "id": "89537c93-83ef-4d85-8343-6f9d8dc00c55",
   "metadata": {},
   "outputs": [
    {
     "name": "stdout",
     "output_type": "stream",
     "text": [
      "('Verna', 5)\n",
      "('Thar', 6)\n"
     ]
    }
   ],
   "source": [
    "# Q2. Create a child class car from the vehicle class created in Que 1, which will inherit the vehicle class.\n",
    "#     Create a method named seating_capacity which takes capacity as an argument and returns the name of\n",
    "#     the vehicle and its seating capacity.\n",
    "\n",
    "class car(vehicle):\n",
    "    \n",
    "    def seating_capacity(self,capacity):\n",
    "        return self.name_of_vehicle,capacity\n",
    "\n",
    "thar=car(\"Thar\", 155, 15.6)\n",
    "verna=car(\"Verna\",120,17.6)\n",
    "\n",
    "print(verna.seating_capacity(5))\n",
    "print(thar.seating_capacity(6))"
   ]
  },
  {
   "cell_type": "code",
   "execution_count": 89,
   "id": "cfdf0dcc-90b6-40ed-a294-9d5c0c7d9bc7",
   "metadata": {},
   "outputs": [],
   "source": [
    "# Q3. What is multiple inheritance? Write a python code to demonstrate multiple inheritance.\n",
    "# A3. In multiple inheritence, a class can inherit data from multiple classes.\n",
    "\n",
    "class class1:\n",
    "    def test_class1(self):\n",
    "        print(\"You have access to class1\")\n",
    "\n",
    "class class2:\n",
    "    def test_class2(self):\n",
    "        print(\"You have access to class2\")\n",
    "        \n",
    "class class3(class1,class2):\n",
    "    def test_class3(self):\n",
    "        print(\"You have access to class3\")\n",
    "        "
   ]
  },
  {
   "cell_type": "code",
   "execution_count": 90,
   "id": "6bd31503-dd90-4cc4-ae1f-d8465e1117b9",
   "metadata": {},
   "outputs": [
    {
     "name": "stdout",
     "output_type": "stream",
     "text": [
      "You have access to class1\n",
      "You have access to class2\n",
      "You have access to class3\n"
     ]
    }
   ],
   "source": [
    "access3=class3()\n",
    "access3.test_class1()\n",
    "access3.test_class2()\n",
    "access3.test_class3()"
   ]
  },
  {
   "cell_type": "code",
   "execution_count": 91,
   "id": "2ebc30b9-e68f-4d58-ac79-b189c8b4f344",
   "metadata": {},
   "outputs": [
    {
     "ename": "AttributeError",
     "evalue": "'class1' object has no attribute 'test_class3'",
     "output_type": "error",
     "traceback": [
      "\u001b[0;31m---------------------------------------------------------------------------\u001b[0m",
      "\u001b[0;31mAttributeError\u001b[0m                            Traceback (most recent call last)",
      "Cell \u001b[0;32mIn[91], line 2\u001b[0m\n\u001b[1;32m      1\u001b[0m access\u001b[38;5;241m=\u001b[39mclass1()\n\u001b[0;32m----> 2\u001b[0m \u001b[43maccess\u001b[49m\u001b[38;5;241;43m.\u001b[39;49m\u001b[43mtest_class3\u001b[49m()  \u001b[38;5;66;03m#This error shows that class3 can access both class1 and class2, whearas class1 and class2\u001b[39;00m\n\u001b[1;32m      3\u001b[0m access2\u001b[38;5;241m=\u001b[39mclass2()      \u001b[38;5;66;03m#cannot\u001b[39;00m\n\u001b[1;32m      4\u001b[0m access2\u001b[38;5;241m.\u001b[39mtest_class1()\n",
      "\u001b[0;31mAttributeError\u001b[0m: 'class1' object has no attribute 'test_class3'"
     ]
    }
   ],
   "source": [
    "access=class1()\n",
    "access.test_class3()  #This error shows that class3 can access both class1 and class2, whearas class1 and class2\n",
    "access2=class2()      #cannot\n",
    "access2.test_class1()"
   ]
  },
  {
   "cell_type": "code",
   "execution_count": 50,
   "id": "e1007159-18fe-4e13-b0b6-be9f91bc7a64",
   "metadata": {},
   "outputs": [
    {
     "name": "stdout",
     "output_type": "stream",
     "text": [
      "1000\n"
     ]
    },
    {
     "name": "stdin",
     "output_type": "stream",
     "text": [
      "Enter the desired amount 2000\n"
     ]
    },
    {
     "data": {
      "text/plain": [
       "3000"
      ]
     },
     "execution_count": 50,
     "metadata": {},
     "output_type": "execute_result"
    }
   ],
   "source": [
    "# Q4. What are getter and setter in python? Create a class and create a getter and a setter method in this\n",
    "#     class.\n",
    "# A4. We use getters and setters in pyhton to avoid dirct access of a class field, i.e. private variables cannot\n",
    "#     be accessed directly or modified by the user.\n",
    "\n",
    "class Bank:\n",
    "    def __init__(self, balance):\n",
    "        self.__balance=balance\n",
    "        \n",
    "    def deposit(amount):\n",
    "        self.__balance=self.__balance+amount\n",
    "        \n",
    "    def withdraw(amount):\n",
    "        self.__balance=self.__balance-amount\n",
    "        \n",
    "    @property\n",
    "    def show_balance(self):\n",
    "        return self.__balance\n",
    "    \n",
    "    @show_balance.setter             #This is a type of an over-ridding function, using which the admin can\n",
    "                                     #change the balance of the account using some particular password.\n",
    "    def set_balance(self,pin):\n",
    "        if pin==1234:\n",
    "            balance=int(input(\"Enter the desired amount\"))\n",
    "            self.__balance=self.__balance+balance\n",
    "            \n",
    "        else:\n",
    "            pass    \n",
    "        \n",
    "acount1=Bank(1000)\n",
    "print(acount1.show_balance)\n",
    "acount1.set_balance=1234\n",
    "acount1.show_balance"
   ]
  },
  {
   "cell_type": "code",
   "execution_count": 105,
   "id": "9caa3eaa-2a6a-47b2-9ed1-98918751c7e7",
   "metadata": {},
   "outputs": [],
   "source": [
    "# Q5. What is method overriding in python? Write a python code to demonstrate method overriding.\n",
    "# A5. Method overriding is an ability of OOP's that allows a child class to provide the program with\n",
    "#     specific characteristics or a specific implementation process of data provided that are already defined \n",
    "#     in the parent class or superclass.\n",
    "\n",
    "class Person:\n",
    "    def __init__(self, name, age):\n",
    "        self.name=name\n",
    "        self.age=age\n",
    "\n",
    "        \n",
    "    def nationality(self, nationality):\n",
    "        self.nationality=nationality\n",
    "        \n",
    "    def retrun_data(self):\n",
    "        return self.name,self.age,self.nationality        \n",
    "    \n",
    "class IndianPerson(Person):\n",
    "    \n",
    "    def nationality(self):               #This Method will override any value added earlier and will make the\n",
    "        self.nationality=\"Indian\"        #person a citizen of India.\n",
    "        return self.nationality\n",
    "        \n",
    "    def return_data(self):\n",
    "        return self.name,self.age,self.nationality"
   ]
  },
  {
   "cell_type": "code",
   "execution_count": 106,
   "id": "da509cd9-ecbe-4e4f-bd9a-50d2de0b88df",
   "metadata": {},
   "outputs": [],
   "source": [
    "Shaurya=Person(\"Shaurya\",18)"
   ]
  },
  {
   "cell_type": "code",
   "execution_count": 107,
   "id": "b6bd6b9b-c342-4fd0-b764-20f3a53debbe",
   "metadata": {},
   "outputs": [],
   "source": [
    "Shaurya.nationality(\"American\")"
   ]
  },
  {
   "cell_type": "code",
   "execution_count": 108,
   "id": "421a0636-2106-4935-a826-623823a103d3",
   "metadata": {},
   "outputs": [
    {
     "data": {
      "text/plain": [
       "('Shaurya', 18, 'American')"
      ]
     },
     "execution_count": 108,
     "metadata": {},
     "output_type": "execute_result"
    }
   ],
   "source": [
    "Shaurya.retrun_data()"
   ]
  },
  {
   "cell_type": "code",
   "execution_count": 109,
   "id": "7969c213-674c-45b0-9ae8-f689a2bc2f26",
   "metadata": {},
   "outputs": [],
   "source": [
    "Shaurya=IndianPerson(\"Shaurya\",18)"
   ]
  },
  {
   "cell_type": "code",
   "execution_count": 110,
   "id": "1ee7e3c8-2fb5-4397-a222-8c74706cba07",
   "metadata": {},
   "outputs": [
    {
     "data": {
      "text/plain": [
       "'Indian'"
      ]
     },
     "execution_count": 110,
     "metadata": {},
     "output_type": "execute_result"
    }
   ],
   "source": [
    "Shaurya.nationality()"
   ]
  }
 ],
 "metadata": {
  "kernelspec": {
   "display_name": "Python 3 (ipykernel)",
   "language": "python",
   "name": "python3"
  },
  "language_info": {
   "codemirror_mode": {
    "name": "ipython",
    "version": 3
   },
   "file_extension": ".py",
   "mimetype": "text/x-python",
   "name": "python",
   "nbconvert_exporter": "python",
   "pygments_lexer": "ipython3",
   "version": "3.10.8"
  }
 },
 "nbformat": 4,
 "nbformat_minor": 5
}
