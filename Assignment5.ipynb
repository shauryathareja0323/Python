{
 "cells": [
  {
   "cell_type": "code",
   "execution_count": 1,
   "id": "07e11edf-e802-4156-ae29-79c8ac1e4532",
   "metadata": {},
   "outputs": [],
   "source": [
    "# Q1. Explain Class and Object with respect to Object-Oriented Programming. Give a suitable example.\n",
    "# A1. A class is considered as a blueprint of objects. For example, Bike is a class containg different details \n",
    "#     which are common in most of the bikes like \"gears\", \"engine\" whearas Object is called an \n",
    "#     instance of a class. For example, if Bike is the class, then we can create objects like \"bike1\", \"bike2\".\n",
    "class Bike:\n",
    "    def __init__(self, gears, engineCC):\n",
    "        self.gears=gears\n",
    "        self.engineCC=engineCC\n",
    "        \n",
    "bike1=Bike(6,200)\n",
    "bike2=Bike(6,350)\n",
    "# Here Bike is the class whereas bike1, bike2 are the objects."
   ]
  },
  {
   "cell_type": "code",
   "execution_count": 2,
   "id": "5f13c1ec-638c-4790-a0a1-49cdd4db2e39",
   "metadata": {},
   "outputs": [],
   "source": [
    "# Q2.  Name the four pillars of OOPs.\n",
    "# A2.  Four pillars of OOPs are:\n",
    "#    1.Polymorphism\n",
    "#    2.Encapsulation\n",
    "#    3.Inheritence\n",
    "#    4.Abstraction"
   ]
  },
  {
   "cell_type": "code",
   "execution_count": 3,
   "id": "e2799ae4-f5e0-4c2f-b03b-53c6536fe601",
   "metadata": {},
   "outputs": [
    {
     "name": "stdout",
     "output_type": "stream",
     "text": [
      "__init__ is called\n",
      "__init__ is called\n"
     ]
    }
   ],
   "source": [
    "# Q3. Explain why the __init__() function is used. Give a suitable example.\n",
    "# A3. The __init__ function is called every time an object is created from a class and lets the class\n",
    "#     initialize the object's attributes.\n",
    "class Dog:\n",
    "    def __init__(self, name, age):\n",
    "        print(\"__init__ is called\")\n",
    "        self.name=name\n",
    "        self.age=age\n",
    "        \n",
    "Mike=Dog(\"Mike\",2)                #Every time Dog class is called __init__, initialises the objects attributes. \n",
    "Charlie=Dog(\"Charlie\",7)\n"
   ]
  },
  {
   "cell_type": "code",
   "execution_count": 4,
   "id": "3312303d-f78e-4be9-a07d-e610c00a478b",
   "metadata": {},
   "outputs": [],
   "source": [
    "# Q4. Why self is used in OOPs?\n",
    "# A4. By using the “self” we can access the attributes and methods of the class in python.\n",
    "#     It binds the attributes with the given arguments."
   ]
  },
  {
   "cell_type": "code",
   "execution_count": 6,
   "id": "68e322fa-91ad-488f-bef8-571b6f1db2c6",
   "metadata": {},
   "outputs": [
    {
     "name": "stdout",
     "output_type": "stream",
     "text": [
      "This funtion is in Parent Class\n",
      "This funtion is in Child Class\n"
     ]
    }
   ],
   "source": [
    "# Q5. What is inheritance? Give an example for each type of inheritance.\n",
    "# A5. Inheritance allows us to define a class that inherits all the methods and properties from another class. \n",
    "# 1. Single Inheritence:\n",
    "class Parent:\n",
    "    def funtion1(self):\n",
    "        return \"This funtion is in Parent Class\"\n",
    "    \n",
    "class Child(Parent):\n",
    "    def funtion2(self):\n",
    "        return \"This funtion is in Child Class\"\n",
    "\n",
    "obj=Child()\n",
    "print(obj.funtion1())\n",
    "print(obj.funtion2())"
   ]
  },
  {
   "cell_type": "code",
   "execution_count": 7,
   "id": "a6a6d249-66de-4195-89f3-963ce6c34127",
   "metadata": {},
   "outputs": [
    {
     "name": "stdout",
     "output_type": "stream",
     "text": [
      "You have access to class1\n",
      "You have access to class2\n",
      "You have access to class3\n"
     ]
    }
   ],
   "source": [
    "#2. Multiple Inheritence:\n",
    "class class1:\n",
    "    def test_class1(self):\n",
    "        print(\"You have access to class1\")\n",
    "\n",
    "class class2:\n",
    "    def test_class2(self):\n",
    "        print(\"You have access to class2\")\n",
    "        \n",
    "class class3(class1,class2):\n",
    "    def test_class3(self):\n",
    "        print(\"You have access to class3\")\n",
    "        \n",
    "access3=class3()\n",
    "access3.test_class1()\n",
    "access3.test_class2()\n",
    "access3.test_class3()"
   ]
  },
  {
   "cell_type": "code",
   "execution_count": 8,
   "id": "32ef218d-f874-4932-bdf2-aea1af9b5c52",
   "metadata": {},
   "outputs": [
    {
     "ename": "AttributeError",
     "evalue": "'class1' object has no attribute 'test_class3'",
     "output_type": "error",
     "traceback": [
      "\u001b[0;31m---------------------------------------------------------------------------\u001b[0m",
      "\u001b[0;31mAttributeError\u001b[0m                            Traceback (most recent call last)",
      "Cell \u001b[0;32mIn[8], line 2\u001b[0m\n\u001b[1;32m      1\u001b[0m access\u001b[38;5;241m=\u001b[39mclass1()\n\u001b[0;32m----> 2\u001b[0m \u001b[43maccess\u001b[49m\u001b[38;5;241;43m.\u001b[39;49m\u001b[43mtest_class3\u001b[49m()  \u001b[38;5;66;03m#This error shows that class3 can access both class1 and class2, whearas class1 and class2\u001b[39;00m\n\u001b[1;32m      3\u001b[0m access2\u001b[38;5;241m=\u001b[39mclass2()      \u001b[38;5;66;03m#cannot\u001b[39;00m\n\u001b[1;32m      4\u001b[0m access2\u001b[38;5;241m.\u001b[39mtest_class1()\n",
      "\u001b[0;31mAttributeError\u001b[0m: 'class1' object has no attribute 'test_class3'"
     ]
    }
   ],
   "source": [
    "access=class1()\n",
    "access.test_class3()  #This error shows that class3 can access both class1 and class2, whearas class1 and class2\n",
    "access2=class2()      #cannot\n",
    "access2.test_class1()"
   ]
  },
  {
   "cell_type": "code",
   "execution_count": 10,
   "id": "dbe0a88b-5e8a-402c-be55-fbbfabdfdce2",
   "metadata": {},
   "outputs": [
    {
     "name": "stdout",
     "output_type": "stream",
     "text": [
      "You have access to class1\n",
      "You have access to class2\n",
      "You have access to class3\n"
     ]
    }
   ],
   "source": [
    "# Multi Level Inheritence:\n",
    "class class1:\n",
    "    def test_class1(self):\n",
    "        print(\"You have access to class1\")\n",
    "\n",
    "class class2(class1):\n",
    "    def test_class2(self):\n",
    "        print(\"You have access to class2\")\n",
    "        \n",
    "class class3(class2):\n",
    "    def test_class3(self):\n",
    "        print(\"You have access to class3\")\n",
    "        \n",
    "access3=class3()\n",
    "access3.test_class1()\n",
    "access3.test_class2()\n",
    "access3.test_class3()"
   ]
  },
  {
   "cell_type": "code",
   "execution_count": 11,
   "id": "0d809bd8-af31-4aad-99a2-de3f3c586cbb",
   "metadata": {},
   "outputs": [
    {
     "name": "stdout",
     "output_type": "stream",
     "text": [
      "You have access to class1\n",
      "You have access to class2\n"
     ]
    }
   ],
   "source": [
    "access2=class2()\n",
    "access2.test_class1() #This error shows that class3 can access both class1 and class2, whearas class1 and class2\n",
    "access=class1()      #cannot\n",
    "access.test_class2()"
   ]
  },
  {
   "cell_type": "code",
   "execution_count": null,
   "id": "adcb6719-82bb-49a8-8742-1fc9f18bd704",
   "metadata": {},
   "outputs": [],
   "source": []
  }
 ],
 "metadata": {
  "kernelspec": {
   "display_name": "Python 3 (ipykernel)",
   "language": "python",
   "name": "python3"
  },
  "language_info": {
   "codemirror_mode": {
    "name": "ipython",
    "version": 3
   },
   "file_extension": ".py",
   "mimetype": "text/x-python",
   "name": "python",
   "nbconvert_exporter": "python",
   "pygments_lexer": "ipython3",
   "version": "3.10.8"
  }
 },
 "nbformat": 4,
 "nbformat_minor": 5
}
